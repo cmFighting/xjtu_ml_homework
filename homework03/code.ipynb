{
 "cells": [
  {
   "cell_type": "code",
   "execution_count": 8,
   "metadata": {},
   "outputs": [],
   "source": [
    "import scipy\n",
    "import numpy as np\n",
    "from scipy.io import loadmat\n",
    "import math"
   ]
  },
  {
   "cell_type": "markdown",
   "metadata": {},
   "source": [
    "## 查看数据"
   ]
  },
  {
   "cell_type": "code",
   "execution_count": 9,
   "metadata": {},
   "outputs": [
    {
     "name": "stdout",
     "output_type": "stream",
     "text": [
      "dict_keys(['__header__', '__version__', '__globals__', 'X', 'y'])\n",
      "dict_keys(['__header__', '__version__', '__globals__', 'Xtest', 'ytest'])\n",
      "训练集特征长度:1899\n",
      "测试集特征长度:1899\n",
      "训练集样本数量:4000\n",
      "测试集样本数量:1000\n"
     ]
    }
   ],
   "source": [
    "def load_data():\n",
    "    # mat文件是字典文件\n",
    "    spam_train = loadmat(file_name=\"data/spamTrain.mat\")\n",
    "    print(spam_train.keys())\n",
    "    spam_train_x = spam_train[\"X\"]\n",
    "    spam_train_y = spam_train[\"y\"]\n",
    "    # 一个数据的长度是1899，也就是说垃圾邮件一共有1899个特征\n",
    "    spam_train_y = [math.pow(-1, i+1) for i in spam_train_y]\n",
    "    spam_train_y = np.array(spam_train_y, dtype=int).reshape(-1, 1)\n",
    "    # print(spam_train_y)\n",
    "    # 同样的方式对测试集进行处理\n",
    "    spam_test = loadmat(file_name=\"data/spamTest.mat\")\n",
    "    print(spam_test.keys())\n",
    "    spam_test_x = spam_test[\"Xtest\"]\n",
    "    spam_test_y = spam_test[\"ytest\"]\n",
    "    spam_test_y = [math.pow(-1, i + 1) for i in spam_test_y]\n",
    "    spam_test_y = np.array(spam_test_y, dtype=int).reshape(-1, 1)\n",
    "    for x in spam_train_x:\n",
    "        print(\"训练集特征长度:{}\".format(len(x)))\n",
    "        break\n",
    "    for x in spam_test_x:\n",
    "        print(\"测试集特征长度:{}\".format(len(x)))\n",
    "        break\n",
    "    print(\"训练集样本数量:{}\".format(spam_train_y.shape[0]))\n",
    "    print(\"测试集样本数量:{}\".format(spam_test_y.shape[0]))\n",
    "    return spam_train_x, spam_train_y, spam_test_x, spam_test_y\n",
    "spam_train_x, spam_train_y, spam_test_x, spam_test_y = load_data()"
   ]
  },
  {
   "cell_type": "markdown",
   "metadata": {},
   "source": [
    "## 编写Pegasos算法"
   ]
  },
  {
   "cell_type": "code",
   "execution_count": 11,
   "metadata": {},
   "outputs": [],
   "source": [
    "# 批量Pegasos算法\n",
    "# 输入的参数分别是数据，数据标签，C，训练轮数，batch大小\n",
    "def batchPegasos(x, y, C, T, k):\n",
    "    lam = 1 / (k * C)\n",
    "    m, n = np.shape(x)\n",
    "    w = np.zeros(n)\n",
    "    dataIndex = np.array([i for i in range(m)])\n",
    "    for t in range(1, T + 1):\n",
    "        wDelta = np.zeros(n)  # reset wDelta\n",
    "        eta = 1.0 / (lam * t)\n",
    "        np.random.shuffle(dataIndex)\n",
    "        for j in range(k):  # go over training set\n",
    "            i = dataIndex[j]\n",
    "            p = predict(w, x[i, :])  # mapper code\n",
    "            if y[i][0] * p < 1:  # mapper code\n",
    "                wDelta += y[i] * x[i, :]  # accumulate changes\n",
    "        w = (1.0 - 1 / t) * w + (eta / k) * wDelta  # apply changes at each T\n",
    "    return w\n",
    "\n",
    "# 预测 wx+b\n",
    "def predict(w, x):\n",
    "    return w.T @ x\n",
    "\n",
    "# 对测试集进行测试\n",
    "def test(x, y, w):\n",
    "    predict_y = []\n",
    "    label_y = y.reshape(-1)\n",
    "    # print(label_y)\n",
    "    for x_i, y_i in zip(x, label_y):\n",
    "        tmp = predict(w, x_i)\n",
    "        if tmp <= 0:\n",
    "            predict_y.append(-1)\n",
    "        else:\n",
    "            predict_y.append(1)\n",
    "    predict_y = np.asarray(predict_y)\n",
    "    # print(np.sum(predict_y == label_y))\n",
    "    print(\"正确率为{}/{}\".format(np.sum(predict_y == label_y), len(predict_y)))\n"
   ]
  },
  {
   "cell_type": "code",
   "execution_count": 14,
   "metadata": {},
   "outputs": [
    {
     "data": {
      "text/plain": [
       "array([ 0.017,  0.025, -0.001, ..., -0.026, -0.012,  0.01 ])"
      ]
     },
     "execution_count": 14,
     "metadata": {},
     "output_type": "execute_result"
    }
   ],
   "source": [
    "# 训练\n",
    "w = batchPegasos(spam_train_x, spam_train_y, 0.1, 100, 100)\n",
    "w"
   ]
  },
  {
   "cell_type": "code",
   "execution_count": 15,
   "metadata": {},
   "outputs": [
    {
     "name": "stdout",
     "output_type": "stream",
     "text": [
      "正确率为974/1000\n"
     ]
    }
   ],
   "source": [
    "# 测试\n",
    "test(spam_test_x, spam_test_y, w)"
   ]
  }
 ],
 "metadata": {
  "kernelspec": {
   "display_name": "Python 3",
   "language": "python",
   "name": "python3"
  },
  "language_info": {
   "codemirror_mode": {
    "name": "ipython",
    "version": 3
   },
   "file_extension": ".py",
   "mimetype": "text/x-python",
   "name": "python",
   "nbconvert_exporter": "python",
   "pygments_lexer": "ipython3",
   "version": "3.8.3"
  }
 },
 "nbformat": 4,
 "nbformat_minor": 4
}
