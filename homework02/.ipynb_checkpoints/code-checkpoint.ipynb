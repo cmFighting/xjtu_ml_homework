{
 "cells": [
  {
   "cell_type": "markdown",
   "metadata": {},
   "source": [
    "# 第二题 实现3层的卷积神经网络"
   ]
  },
  {
   "cell_type": "markdown",
   "metadata": {},
   "source": [
    "## 数据加载\n",
    "通过pickle对原始的数据进行加载，并处理为一维的向量，可视化数据集中的图像，效果如下："
   ]
  },
  {
   "cell_type": "code",
   "execution_count": 5,
   "metadata": {},
   "outputs": [],
   "source": [
    "import pickle\n",
    "import gzip\n",
    "import numpy as np\n",
    "import matplotlib.pyplot as plt\n",
    "from PIL import Image\n",
    "\n",
    "\n",
    "# 数据解压，类似与字典一样的数据，通过pickle来进行解压\n",
    "def load_data():\n",
    "    f = gzip.open('data/mnist.pkl.gz', 'rb')\n",
    "    train_data, val_data, test_data = pickle.load(f, encoding='bytes')\n",
    "    f.close()\n",
    "    return train_data, val_data, test_data\n",
    "\n",
    "\n",
    "# 数据处理，将二维的图像数据处理成实际上我们使用的数据\n",
    "def raw_data_preprocess():\n",
    "    raw_train_data, raw_val_data, raw_test_data = load_data()\n",
    "    # 处理训练数据\n",
    "    train_inputs = [np.reshape(x, (784, 1)) for x in raw_train_data[0]]\n",
    "    train_labels = [one_hot(y) for y in raw_train_data[1]]\n",
    "    train_data = zip(train_inputs, train_labels)\n",
    "    print(\"训练数据大小：{}\".format(len(train_labels)))\n",
    "    # 处理验证数据\n",
    "    val_inputs = [np.reshape(x, (784, 1)) for x in raw_val_data[0]]\n",
    "    val_labels = [one_hot(y) for y in raw_val_data[1]]\n",
    "    val_data = zip(val_inputs, val_labels)\n",
    "    print(\"验证数据大小：{}\".format(len(val_labels)))\n",
    "    # 处理测试数据\n",
    "    test_inputs = [np.reshape(x, (784, 1)) for x in raw_test_data[0]]\n",
    "    test_labels = [one_hot(y) for y in raw_test_data[1]]\n",
    "    test_data = zip(test_inputs, test_labels)\n",
    "    print(\"测试数据大小：{}\".format(len(test_labels)))\n",
    "    print(\"mnist数据加载完毕\")\n",
    "    return list(train_data), list(val_data), list(test_data)\n",
    "\n",
    "\n",
    "# 将图片转化为onehot向量的形势\n",
    "def one_hot(j):\n",
    "    one_hot_j = np.zeros((10, 1))\n",
    "    one_hot_j[j] = 1.0\n",
    "    return one_hot_j\n",
    "\n",
    "\n",
    "def show_img(img_array):\n",
    "    img = Image.fromarray(img_array)\n",
    "    img_gray = img.convert(\"L\")\n",
    "    # pillow 读取完的图片还是具体的整数，没有做归一化的处理\n",
    "    # matplotlib做显示的时候显示的不是灰度图，是因为颜色通道的缘故\n",
    "    # print(img)\n",
    "    # print(np.array(img).shape)\n",
    "    plt.figure(\"Image\")\n",
    "    plt.imshow(img)\n",
    "    plt.axis(\"on\")\n",
    "    plt.title(\"mnist image\")\n",
    "    img_gray.save(\"test.jpg\", quality=95, subsampling=0)\n",
    "    plt.show()"
   ]
  },
  {
   "cell_type": "code",
   "execution_count": 6,
   "metadata": {},
   "outputs": [
    {
     "data": {
      "image/png": "[encoded data removed]",
      "text/plain": [
       "<Figure size 432x288 with 1 Axes>"
      ]
     },
     "metadata": {
      "needs_background": "light"
     },
     "output_type": "display_data"
    },
    {
     "name": "stdout",
     "output_type": "stream",
     "text": [
      "训练数据大小：50000\n",
      "验证数据大小：10000\n",
      "测试数据大小：10000\n",
      "mnist数据加载完毕\n"
     ]
    }
   ],
   "source": [
    "train_data, val_data, test_data = load_data()\n",
    "img_array = test_data[0][0]\n",
    "img_28_28 = img_array.reshape(28, 28) * 255\n",
    "img_28_28_int = img_28_28.astype(\"int\")\n",
    "show_img(img_28_28_int)\n",
    "t,v,test = raw_data_preprocess()"
   ]
  },
  {
   "cell_type": "markdown",
   "metadata": {},
   "source": [
    "## 完成mlp的搭建\n",
    "按照题目要求，中间隐藏层的激活函数选择relu，输出层的激活函数为softmax，一定要注意，使用了relu作为激活函数，最后一层是不使用relu的，直接对z进行softmax即可，代码和效果如下："
   ]
  },
  {
   "cell_type": "code",
   "execution_count": 16,
   "metadata": {},
   "outputs": [],
   "source": [
    "import random\n",
    "import numpy as np\n",
    "from PIL import Image\n",
    "\n",
    "\n",
    "def activate_function(z, name='relu'):\n",
    "    if name == 'relu':\n",
    "        z[z < 0] = 0\n",
    "        return z\n",
    "    # elif name == 'sigmoid':\n",
    "    #     return 1.0 / (1.0 + np.exp(-z))\n",
    "\n",
    "\n",
    "def activate_function_prime(z, name='relu'):\n",
    "    if name == 'relu':\n",
    "        z[z > 0] = 1\n",
    "        z[z <= 0] = 0\n",
    "        return z\n",
    "    # elif name == 'sigmoid':\n",
    "    #     return activate_function(z, \"sigmoid\") * (1 - activate_function(z, \"sigmoid\"))\n",
    "\n",
    "\n",
    "def softmax(z):\n",
    "    t = np.exp(z)\n",
    "    a = np.nan_to_num(np.exp(z) / np.sum(t))\n",
    "    return a\n",
    "\n",
    "\n",
    "class Network(object):\n",
    "    # sizes 用来描述网络的结构，包括输入层、隐藏层和输出层\n",
    "    def __init__(self, sizes):\n",
    "        self.num_layers = len(sizes)\n",
    "        self.sizes = sizes\n",
    "        # randn 用来生成标准正态分布，生成的是列向量\n",
    "        self.biases = [np.random.randn(y, 1) for y in sizes[1:]]\n",
    "        # 生成正态分布的权重矩阵，其中后面一层的结点数目为网路的左下标，前面一层的结点数目为网络的右下表，方便进行矩阵运算\n",
    "        self.weights = [np.random.randn(y, x) for x, y in zip(sizes[:-1], sizes[1:])]\n",
    "\n",
    "    # 执行一次前向传播, 输出的是a，根据不同的损失函数去计算损失\n",
    "    def feedforward(self, a):\n",
    "        # 按照课上的ppt指出，如果是最后一层，只留下z即可, 不再进行进一步的激活\n",
    "        num_forward = 0\n",
    "        for b, w in zip(self.biases, self.weights):\n",
    "            z = np.dot(w, a) + b\n",
    "            if num_forward < (self.num_layers - 2):\n",
    "                # print(\"relu\")\n",
    "                a = activate_function(z)\n",
    "            else:\n",
    "                # print(\"softmax\")\n",
    "                a = softmax(z)\n",
    "            num_forward = num_forward + 1\n",
    "        # todo 实际上这个位置返回的应该是z，而不是a\n",
    "        # y_hat = softmax(z)\n",
    "        return a\n",
    "\n",
    "    def SGD(self, train_data, epochs, mini_batch_size, eta, test_data=None):\n",
    "        n = len(train_data)\n",
    "        for j in range(epochs):\n",
    "            random.shuffle(train_data)\n",
    "            # 数据划分\n",
    "            mini_batches = [train_data[k: k + mini_batch_size] for k in range(0, n, mini_batch_size)]\n",
    "            # 小批量数据梯度更新\n",
    "            for mini_batch in mini_batches:\n",
    "                self.update_mini_batch(mini_batch, eta)\n",
    "            if test_data:\n",
    "                n_test = len(test_data)\n",
    "                correct_num = self.evaluate(test_data)\n",
    "                print(\"Epoch {} : {} / {}\".format(j, correct_num, n_test))\n",
    "            else:\n",
    "                print(\"Epoch {} complete\".format(j))\n",
    "        # 把一个合适的权重保存下来\n",
    "\n",
    "    def update_mini_batch(self, mini_batch, eta):\n",
    "        # nabla用来表示微分，就是每一层求偏导之后的结果\n",
    "        nabla_b = [np.zeros(b.shape) for b in self.biases]\n",
    "        nabla_w = [np.zeros(w.shape) for w in self.weights]\n",
    "\n",
    "        for x, y in mini_batch:\n",
    "            # 把这个小批量的梯度回\n",
    "            delta_nabla_b, delta_nabla_w = self.backprop(x, y)\n",
    "            nabla_b = [nb + dnb for nb, dnb in zip(nabla_b, delta_nabla_b)]\n",
    "            nabla_w = [nw + dnw for nw, dnw in zip(nabla_w, delta_nabla_w)]\n",
    "\n",
    "        # 终于开始梯度更新\n",
    "        self.weights = [w - (eta / len(mini_batch)) * nw for w, nw in zip(self.weights, nabla_w)]\n",
    "        self.biases = [b - (eta / len(mini_batch)) * nb for b, nb in zip(self.biases, nabla_b)]\n",
    "\n",
    "    def backprop(self, x, y):\n",
    "        # 初始化w和b的微分\n",
    "        nabla_b = [np.zeros(b.shape) for b in self.biases]\n",
    "        nabla_w = [np.zeros(w.shape) for w in self.weights]\n",
    "        # 前向传播\n",
    "        activation = x  # 一开始的那个a就是输入的x\n",
    "        activations = [x]  # 保存前向传播的a，也就是激活之后的值\n",
    "        zs = []  # 用来保存前向传播过程中的z，也就是累加之后的值\n",
    "        current_layer = 0\n",
    "        for b, w in zip(self.biases, self.weights):\n",
    "            z = np.dot(w, activation) + b\n",
    "            zs.append(z)\n",
    "            # todo 如果是最后一层，请使用sigmoid激活函数，或者直接不整\n",
    "            if current_layer < (self.num_layers - 2):\n",
    "                # print(\"执行relu\")\n",
    "                activation = activate_function(z)\n",
    "            else:\n",
    "                # 最后一层不执行relu，仅执行sigmoid\n",
    "                # print(\"执行softmax\")\n",
    "                # activation = activate_function(z, name='sigmoid')\n",
    "                activation = softmax(z)\n",
    "            activations.append(activation)\n",
    "            current_layer = current_layer + 1\n",
    "\n",
    "        # 开始去计算误差并进行反向传播\n",
    "        # todo 反向传播的过程中，最后一层的误差其实也不去做偏导，从倒数第二层开始进行偏导\n",
    "        delta = self.cost_derivative(activations[-1], y)\n",
    "        nabla_b[-1] = delta\n",
    "        nabla_w[-1] = np.dot(delta, activations[-2].transpose())\n",
    "\n",
    "        # 前面的层的误差通过后面层的误差去计算即可\n",
    "        for l in range(2, self.num_layers):\n",
    "            z = zs[-l]\n",
    "            afp = activate_function_prime(z)\n",
    "            delta = np.dot(self.weights[-l + 1].transpose(), delta) * afp\n",
    "            nabla_b[-l] = delta\n",
    "            nabla_w[-l] = np.dot(delta, activations[-l - 1].transpose())\n",
    "        return nabla_b, nabla_w\n",
    "\n",
    "    def cost_derivative(self, out_put_activations, y, name='relu'):\n",
    "        if name == \"relu\":\n",
    "            return out_put_activations - y\n",
    "\n",
    "    # 验证准确率\n",
    "    def evaluate(self, test_data):\n",
    "        test_results = [(np.argmax(self.feedforward(x)), np.argmax(y)) for x, y in test_data]\n",
    "        return sum(int(x == y) for (x, y) in test_results)\n",
    "\n",
    "    def test_img(self, img_name):\n",
    "        img = Image.open(img_name)\n",
    "        img_array = np.array(img) / 255.0\n",
    "        img_array = img_array.reshape(784, 1)\n",
    "        label_one_hot = self.feedforward(img_array)\n",
    "        label = np.argmax(label_one_hot)\n",
    "        print(\"predict: {}\".format(label))"
   ]
  },
  {
   "cell_type": "code",
   "execution_count": 18,
   "metadata": {},
   "outputs": [
    {
     "name": "stdout",
     "output_type": "stream",
     "text": [
      "训练数据大小：50000\n",
      "验证数据大小：10000\n",
      "测试数据大小：10000\n",
      "mnist数据加载完毕\n",
      "Epoch 0 : 8462 / 10000\n",
      "Epoch 1 : 8831 / 10000\n",
      "Epoch 2 : 8947 / 10000\n",
      "Epoch 3 : 9012 / 10000\n",
      "Epoch 4 : 9076 / 10000\n",
      "Epoch 5 : 9121 / 10000\n",
      "Epoch 6 : 9122 / 10000\n",
      "Epoch 7 : 9158 / 10000\n",
      "Epoch 8 : 9194 / 10000\n",
      "Epoch 9 : 9170 / 10000\n"
     ]
    }
   ],
   "source": [
    "train_data, val_data, test_data = raw_data_preprocess()\n",
    "net = Network([784, 15, 10])\n",
    "net.SGD(train_data, 10, 10, 0.1, test_data)"
   ]
  },
  {
   "cell_type": "code",
   "execution_count": 19,
   "metadata": {},
   "outputs": [
    {
     "data": {
      "image/png": "[encoded data removed]",
      "text/plain": [
       "<Figure size 432x288 with 1 Axes>"
      ]
     },
     "metadata": {
      "needs_background": "light"
     },
     "output_type": "display_data"
    }
   ],
   "source": [
    "def show_img(imgname):\n",
    "#     img = Image.open(img).convert(\"L\")\n",
    "    img = plt.imread(imgname)\n",
    "    plt.figure(\"Image\")\n",
    "    plt.imshow(img,cmap ='gray')\n",
    "    plt.axis(\"on\")\n",
    "    plt.title(\"mnist image\")\n",
    "    plt.show()\n",
    "\n",
    "show_img(\"test.jpg\")"
   ]
  },
  {
   "cell_type": "code",
   "execution_count": 20,
   "metadata": {},
   "outputs": [
    {
     "name": "stdout",
     "output_type": "stream",
     "text": [
      "predict: 7\n"
     ]
    }
   ],
   "source": [
    "net.test_img(\"test.jpg\")"
   ]
  },
  {
   "cell_type": "markdown",
   "metadata": {},
   "source": [
    "## 总结\n",
    "整个过程比较耗时，主要还是数学基础薄弱和编程逻辑不清晰，比如最后具体的激活过程整了好久才明白，望继续加强"
   ]
  },
  {
   "cell_type": "code",
   "execution_count": null,
   "metadata": {},
   "outputs": [],
   "source": []
  }
 ],
 "metadata": {
  "kernelspec": {
   "display_name": "Python 3",
   "language": "python",
   "name": "python3"
  },
  "language_info": {
   "codemirror_mode": {
    "name": "ipython",
    "version": 3
   },
   "file_extension": ".py",
   "mimetype": "text/x-python",
   "name": "python",
   "nbconvert_exporter": "python",
   "pygments_lexer": "ipython3",
   "version": "3.8.3"
  }
 },
 "nbformat": 4,
 "nbformat_minor": 4
}
