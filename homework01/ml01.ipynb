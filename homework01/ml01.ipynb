{
 "cells": [
  {
   "cell_type": "code",
   "execution_count": 3,
   "metadata": {},
   "outputs": [],
   "source": [
    "import numpy as np\n",
    "import matplotlib.pyplot as plt\n",
    "from matplotlib.patches import Ellipse\n",
    "import math\n",
    "%matplotlib inline"
   ]
  },
  {
   "cell_type": "markdown",
   "metadata": {},
   "source": [
    "## 查看数据\n",
    "利用loadtxt读取数据文件并查看数据的分布"
   ]
  },
  {
   "cell_type": "code",
   "execution_count": 4,
   "metadata": {},
   "outputs": [
    {
     "data": {
      "image/png": "[encoded data removed]",
      "text/plain": [
       "<Figure size 432x288 with 1 Axes>"
      ]
     },
     "metadata": {
      "needs_background": "light"
     },
     "output_type": "display_data"
    }
   ],
   "source": [
    "def show_data(filename):\n",
    "    data = np.loadtxt(filename, dtype=float, delimiter=',')\n",
    "    x0 = []\n",
    "    y0 = []\n",
    "    x1 = []\n",
    "    y1 = []\n",
    "    for one_node in data:\n",
    "        x = one_node[0]\n",
    "        y = one_node[1]\n",
    "        label = int(one_node[2])\n",
    "        if label == 0:\n",
    "            x0.append(x)\n",
    "            y0.append(y)\n",
    "        elif label == 1:\n",
    "            x1.append(x)\n",
    "            y1.append(y)\n",
    "    fig = plt.figure()\n",
    "#     ax = fig.add_subplot(111)\n",
    "    plt.plot(x0, y0, 'r*', label=\"N\")\n",
    "    plt.plot(x1, y1, 'bo', label=\"P\")\n",
    "    plt.xlabel(\"x1\")\n",
    "    plt.ylabel(\"x2\")\n",
    "    plt.legend(loc='upper right')\n",
    "    plt.show()\n",
    "    \n",
    "show_data('ex2data2.txt')"
   ]
  },
  {
   "cell_type": "markdown",
   "metadata": {},
   "source": [
    "## 数据分析和建模\n",
    "根据数据分析可知，该数据的分布使用基本的线性逻辑回归无法构造合适的分类器，可以考虑使用椭圆来构建,椭圆的方程为:\n",
    "\n",
    " $\\theta_{0} + \\theta_{1}x1 + \\theta_{2}x2 = 0$\n",
    " \n",
    " 将椭圆方程转化为椭圆的一般形式， 圆心为(0, 0)，可知：\n",
    " \n",
    " $ width = 2\\sqrt{|\\frac{\\theta_{0}}{\\theta_{1}}|} $\n",
    " \n",
    " $ height = 2\\sqrt{|\\frac{\\theta_{0}}{\\theta_{2}}|} $\n",
    " \n",
    " 所以问题的关键转化为如何求解$\\theta$\n",
    " \n",
    "本问题是一个二分类问题，即逻辑回归问题，整个问题的目的在于让概率达到最大，为了方便计算使用对数最大似然估计的方式来求解，参数的更新从原来求损失的梯度下降转化为梯度上升，详细可参考老师上课给出的PPT。\n",
    "<!-- ![](https://vehicle4cm.oss-cn-beijing.aliyuncs.com/typoraimgs/1ml1.png)\n",
    "![](https://vehicle4cm.oss-cn-beijing.aliyuncs.com/typoraimgs/2ml1.png)\n",
    "![](https://vehicle4cm.oss-cn-beijing.aliyuncs.com/typoraimgs/3ml1.png)\n",
    "![](https://vehicle4cm.oss-cn-beijing.aliyuncs.com/typoraimgs/4ml1.png)\n",
    "![](https://vehicle4cm.oss-cn-beijing.aliyuncs.com/typoraimgs/5ml1.png) -->\n",
    "通过PPT中给出的思路，构建模型类"
   ]
  },
  {
   "cell_type": "code",
   "execution_count": 5,
   "metadata": {},
   "outputs": [],
   "source": [
    "# 用于计算f_theta(x)\n",
    "def sigmoid(x):\n",
    "    s = 1 / (1 + np.exp(-x))\n",
    "    return s\n",
    "\n",
    "\n",
    "class LogisticRegressionModel:\n",
    "    def __init__(self, x_train, y_train, alpha, x_test, y_test):\n",
    "        feature_shape = x_train.shape\n",
    "        feature_dim = feature_shape[1]\n",
    "        feature2cal = np.ones((feature_shape[0], feature_shape[1] + 1))\n",
    "        feature2cal[:, 1:] = x_train\n",
    "\n",
    "        feature_shape_test = x_test.shape\n",
    "        feature2cal_test = np.ones((feature_shape_test[0], feature_shape_test[1] + 1))\n",
    "        feature2cal_test[:, 1:] = x_test\n",
    "\n",
    "        self.x_train = feature2cal\n",
    "        self.y_train = y_train\n",
    "        self.x_test = feature2cal_test\n",
    "        self.y_test = y_test\n",
    "        self.alpha = alpha\n",
    "        self.theta = np.zeros(feature_dim + 1)\n",
    "        self.ln_l_theta = float(\"-inf\")\n",
    "        self.record_lns = []\n",
    "\n",
    "    def train(self):\n",
    "        epoch = 0\n",
    "        while True:\n",
    "            # print(\"epoch: {}\".format(epoch))\n",
    "            # 计算梯度\n",
    "            ln_l_theta = 0\n",
    "            gradient = 0\n",
    "            for xi, yi in zip(self.x_train, self.y_train):\n",
    "                t = np.matmul(self.theta, xi.T)\n",
    "                # 求对数似然\n",
    "                ln_l_theta = ln_l_theta + ((1-yi)*(-t) - np.log(1 + np.exp(-t)))\n",
    "                gradient = gradient + ((yi - sigmoid(t)) * xi)\n",
    "\n",
    "            # 梯度上升\n",
    "            self.theta = self.theta + self.alpha * gradient\n",
    "            # print(\"对数似然：{}\".format(ln_l_theta))\n",
    "            # break\n",
    "            # 找到合适的终止条件，终止循环\n",
    "            if (ln_l_theta - self.ln_l_theta) < 1e-6:\n",
    "                break\n",
    "            self.record_lns.append(ln_l_theta)\n",
    "            self.ln_l_theta = ln_l_theta\n",
    "            epoch = epoch + 1\n",
    "        # print(\"theta:{}\".format(self.theta))\n",
    "        self.show_ln()\n",
    "        return self.theta\n",
    "\n",
    "    def show_ln(self):\n",
    "        x = np.array([i+1 for i in range(len(self.record_lns))])\n",
    "        plt.plot(x, self.record_lns, 'b-')\n",
    "        plt.xlabel(\"epoch\")\n",
    "        plt.ylabel(\"ln_l_theta\")\n",
    "        plt.show()\n",
    "        # plt.title(\"\")\n",
    "        # ax = plt.subplot(111)\n",
    "\n",
    "\n",
    "\n",
    "    def test(self):\n",
    "        # 计算, f_score\n",
    "        TP_1_1 = 0\n",
    "        FN_1_0 = 0\n",
    "        FP_0_1 = 0\n",
    "        TN_0_0 = 0\n",
    "        for xi, yi in zip(self.x_test, self.y_test):\n",
    "            yi = int(yi)\n",
    "            t = np.matmul(self.theta, xi.T)\n",
    "            sig_t = sigmoid(t)\n",
    "            if sig_t < 0.5:\n",
    "                y_pre = 0\n",
    "            else:\n",
    "                y_pre = 1\n",
    "\n",
    "            if yi == 1 and y_pre == 1:\n",
    "                TP_1_1 = TP_1_1 + 1\n",
    "            elif yi == 1 and y_pre == 0:\n",
    "                FN_1_0 = FN_1_0 + 1\n",
    "            elif yi == 0 and y_pre == 1:\n",
    "                FP_0_1 = FP_0_1 + 1\n",
    "            elif yi == 0 and y_pre == 0:\n",
    "                TN_0_0 = TN_0_0 + 1\n",
    "        p = TP_1_1 / (TP_1_1 + FP_0_1)\n",
    "        r = TP_1_1 / (TP_1_1 + FN_1_0)\n",
    "        F1 = 2*p*r / (p + r)\n",
    "        # print(\"p:{} r:{} f1-score:{}\".format(p, r, F1))\n",
    "        return p, r, F1"
   ]
  },
  {
   "cell_type": "markdown",
   "metadata": {},
   "source": [
    "## 定义K折交叉验证，构建K折数据集"
   ]
  },
  {
   "cell_type": "code",
   "execution_count": 6,
   "metadata": {},
   "outputs": [],
   "source": [
    "def k_fold_data_load(n=3):\n",
    "    # 使用椭圆的数据，所以先进行平方，把数据分为n份\n",
    "    data = np.loadtxt('ex2data2.txt', dtype=float, delimiter=',')\n",
    "    x = data[:, 0:2]\n",
    "    x = np.power(x, 2)\n",
    "    y = data[:, -1]\n",
    "    data_length = len(y)\n",
    "    data_index = np.arange(0, data_length)\n",
    "    np.random.shuffle(data_index)\n",
    "    # print(data_index.shape)\n",
    "    # todo 针对小数的情况做丢弃的操作\n",
    "    one_fold_length = int(data_length / n)\n",
    "    actual_length = one_fold_length * n\n",
    "    data_index = data_index[0: actual_length]\n",
    "    data_index_copy = data_index\n",
    "    data_index = data_index.reshape((n, -1))\n",
    "\n",
    "    new_data = []\n",
    "    for one_fold_index in data_index:\n",
    "        train_index = []\n",
    "        for idx in data_index_copy:\n",
    "            if idx in one_fold_index:\n",
    "                pass\n",
    "            else:\n",
    "                train_index.append(idx)\n",
    "        train_index = np.array(train_index)\n",
    "\n",
    "        x_train = x[train_index, :]\n",
    "        y_train = y[train_index]\n",
    "        x_test = x[one_fold_index, :]\n",
    "        y_test = y[one_fold_index]\n",
    "        data_tuple = (x_train, y_train, x_test, y_test)\n",
    "        new_data.append(data_tuple)\n",
    "\n",
    "    return new_data"
   ]
  },
  {
   "cell_type": "code",
   "execution_count": 11,
   "metadata": {},
   "outputs": [
    {
     "name": "stdout",
     "output_type": "stream",
     "text": [
      "1 fold：\n"
     ]
    },
    {
     "data": {
      "image/png": "[encoded data removed]",
      "text/plain": [
       "<Figure size 432x288 with 1 Axes>"
      ]
     },
     "metadata": {
      "needs_background": "light"
     },
     "output_type": "display_data"
    },
    {
     "name": "stdout",
     "output_type": "stream",
     "text": [
      "theta为[ 2.3111768  -5.36981155 -4.13541805]\n",
      "p: 1.0 r: 0.6 F1: 0.75\n",
      "2 fold：\n"
     ]
    },
    {
     "data": {
      "image/png": "[encoded data removed]",
      "text/plain": [
       "<Figure size 432x288 with 1 Axes>"
      ]
     },
     "metadata": {
      "needs_background": "light"
     },
     "output_type": "display_data"
    },
    {
     "name": "stdout",
     "output_type": "stream",
     "text": [
      "theta为[ 2.7190546  -6.71843574 -4.2545572 ]\n",
      "p: 0.75 r: 0.667 F1: 0.706\n",
      "3 fold：\n"
     ]
    },
    {
     "data": {
      "image/png": "[encoded data removed]",
      "text/plain": [
       "<Figure size 432x288 with 1 Axes>"
      ]
     },
     "metadata": {
      "needs_background": "light"
     },
     "output_type": "display_data"
    },
    {
     "name": "stdout",
     "output_type": "stream",
     "text": [
      "theta为[ 2.92250019 -5.94803679 -3.85393373]\n",
      "p: 0.5 r: 1.0 F1: 0.667\n",
      "4 fold：\n"
     ]
    },
    {
     "data": {
      "image/png": "[encoded data removed]",
      "text/plain": [
       "<Figure size 432x288 with 1 Axes>"
      ]
     },
     "metadata": {
      "needs_background": "light"
     },
     "output_type": "display_data"
    },
    {
     "name": "stdout",
     "output_type": "stream",
     "text": [
      "theta为[ 2.96316563 -6.59098054 -4.55383459]\n",
      "p: 0.7 r: 0.824 F1: 0.757\n",
      "最终结果：\n",
      "theta为[ 2.7289743  -6.15681615 -4.19943589]\n",
      "p: 0.738 r: 0.773 F1: 0.72\n"
     ]
    }
   ],
   "source": [
    "theta = np.array([0, 0, 0])\n",
    "p = 0\n",
    "r = 0\n",
    "F1 = 0\n",
    "new_data = k_fold_data_load(4)\n",
    "k = 0\n",
    "for x_train, y_train, x_test, y_test in new_data:\n",
    "    print(\"{} fold：\".format(k+1))\n",
    "    model = LogisticRegressionModel(x_train, y_train, 0.01, x_test, y_test)\n",
    "    k_theta = model.train()\n",
    "    kp, kr, kF1 = model.test()\n",
    "    print(\"theta为{}\".format(k_theta))\n",
    "    print(\"p: {} r: {} F1: {}\".format(round(kp, 3), round(kr, 3), round(kF1, 3)))\n",
    "    theta = theta + k_theta\n",
    "    p = p + kp\n",
    "    r = r + kr\n",
    "    F1 = F1 + kF1\n",
    "    k = k + 1\n",
    "\n",
    "theta = theta / k\n",
    "p = p / k\n",
    "r = r / k\n",
    "F1 = F1 / k\n",
    "print(\"最终结果：\")\n",
    "print(\"theta为{}\".format(theta))\n",
    "print(\"p: {} r: {} F1: {}\".format(round(p, 3), round(r, 3), round(F1, 3)))"
   ]
  },
  {
   "cell_type": "markdown",
   "metadata": {},
   "source": [
    "## 计算椭圆的width和height并绘制出来"
   ]
  },
  {
   "cell_type": "code",
   "execution_count": 12,
   "metadata": {},
   "outputs": [],
   "source": [
    "def show_board(theta):\n",
    "    width = 2*math.sqrt(np.abs(theta[0] / theta[1]))\n",
    "    height = 2*math.sqrt(np.abs(theta[0] / theta[2]))\n",
    "    data = np.loadtxt('ex2data2.txt', dtype=float, delimiter=',')\n",
    "    x0 = []\n",
    "    y0 = []\n",
    "    x1 = []\n",
    "    y1 = []\n",
    "    for one_node in data:\n",
    "        x = one_node[0]\n",
    "        y = one_node[1]\n",
    "        label = int(one_node[2])\n",
    "        if label == 0:\n",
    "            x0.append(x)\n",
    "            y0.append(y)\n",
    "        elif label == 1:\n",
    "            x1.append(x)\n",
    "            y1.append(y)\n",
    "    fig = plt.figure()\n",
    "    ax = fig.add_subplot(111)\n",
    "    plt.plot(x0, y0, 'r*', label=\"N\")\n",
    "    plt.plot(x1, y1, 'bo', label=\"P\")\n",
    "    plt.xlabel(\"x1\")\n",
    "    plt.ylabel(\"x2\")\n",
    "    plt.legend(loc='upper right')\n",
    "    plt.xlabel(\"x1\")\n",
    "    plt.ylabel(\"x2\")\n",
    "    plt.legend(loc='upper right')\n",
    "    ell1 = Ellipse(xy=(0.0, 0.0), width=width, height=height, angle=0,\n",
    "                   facecolor=\"white\", edgecolor=\"black\")\n",
    "    ax.add_artist(ell1)\n",
    "    plt.plot(x0, y0, 'ro')\n",
    "    plt.plot(x1, y1, 'bo')\n",
    "    plt.show()"
   ]
  },
  {
   "cell_type": "code",
   "execution_count": 13,
   "metadata": {},
   "outputs": [
    {
     "data": {
      "image/png": "[encoded data removed]",
      "text/plain": [
       "<Figure size 432x288 with 1 Axes>"
      ]
     },
     "metadata": {
      "needs_background": "light"
     },
     "output_type": "display_data"
    }
   ],
   "source": [
    "show_board(theta)"
   ]
  },
  {
   "cell_type": "markdown",
   "metadata": {},
   "source": [
    "## TODO\n",
    "1. 采用多项式进行拟合\n",
    "\n",
    "2. 加入椭圆的角度信息\n",
    "\n"
   ]
  }
 ],
 "metadata": {
  "kernelspec": {
   "display_name": "Python 3",
   "language": "python",
   "name": "python3"
  },
  "language_info": {
   "codemirror_mode": {
    "name": "ipython",
    "version": 3
   },
   "file_extension": ".py",
   "mimetype": "text/x-python",
   "name": "python",
   "nbconvert_exporter": "python",
   "pygments_lexer": "ipython3",
   "version": "3.8.3"
  }
 },
 "nbformat": 4,
 "nbformat_minor": 4
}
